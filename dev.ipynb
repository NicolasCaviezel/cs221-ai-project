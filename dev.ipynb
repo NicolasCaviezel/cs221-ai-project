{
 "cells": [
  {
   "cell_type": "code",
   "execution_count": 1,
   "metadata": {},
   "outputs": [],
   "source": [
    "%load_ext autoreload\n",
    "%autoreload 2"
   ]
  },
  {
   "cell_type": "code",
   "execution_count": 62,
   "metadata": {},
   "outputs": [],
   "source": [
    "import pipeline\n",
    "import pandas as pd"
   ]
  },
  {
   "cell_type": "code",
   "execution_count": 76,
   "metadata": {},
   "outputs": [],
   "source": [
    "kdd = pipeline.KDD1999()"
   ]
  },
  {
   "cell_type": "code",
   "execution_count": 77,
   "metadata": {},
   "outputs": [
    {
     "name": "stdout",
     "output_type": "stream",
     "text": [
      "shape\n",
      "(98525, 42)\n",
      "==========\n",
      "Labels\n",
      "          counts       pct\n",
      "normal.    97278  0.987343\n",
      "ipsweep.    1247  0.012657\n",
      "==========\n"
     ]
    }
   ],
   "source": [
    "kdd.report_training_data()"
   ]
  },
  {
   "cell_type": "code",
   "execution_count": 78,
   "metadata": {},
   "outputs": [
    {
     "name": "stdout",
     "output_type": "stream",
     "text": [
      "Confusion matrix\n",
      "                  counts       pct\n",
      "predicted actual                  \n",
      "False     False      561  0.005694\n",
      "          True       686  0.006963\n",
      "True      False      686  0.006963\n",
      "          True     96592  0.980381\n",
      "==========\n",
      "Scores\n",
      "           baseline    random  relative\n",
      "f1         0.992948  0.987341  0.005679\n",
      "ap         0.992909  0.987341  0.005639\n",
      "precision  0.992948  0.987345  0.005675\n",
      "recall     0.992948  0.987356  0.005664\n"
     ]
    }
   ],
   "source": [
    "kdd.baseline()"
   ]
  },
  {
   "cell_type": "code",
   "execution_count": null,
   "metadata": {},
   "outputs": [],
   "source": []
  }
 ],
 "metadata": {
  "kernelspec": {
   "display_name": "Python 3",
   "language": "python",
   "name": "python3"
  },
  "language_info": {
   "codemirror_mode": {
    "name": "ipython",
    "version": 3
   },
   "file_extension": ".py",
   "mimetype": "text/x-python",
   "name": "python",
   "nbconvert_exporter": "python",
   "pygments_lexer": "ipython3",
   "version": "3.6.5"
  }
 },
 "nbformat": 4,
 "nbformat_minor": 2
}
